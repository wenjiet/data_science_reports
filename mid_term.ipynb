{
 "cells": [
  {
   "cell_type": "markdown",
   "metadata": {},
   "source": [
    "# Understanding the Community: Social Discovery of Machine Learning Researchers and Literatures\n",
    "\n",
    "Machine learning is one of the most influential subjects in computer science. In this project, we will analyze scholars’ activities based literatures published in the top-tier conferences to gain interesting insights in the community. We select a published academic literature dataset, DBLP, to perform the analysis. DBLP is a website that collects the computer science bibliography which updates every month. It is also well maintained with detailed metadata for our purpose of analysing.\n",
    "\n",
    "\n",
    "For the midterm of this project, we have done all the preprocessing task on the raw dataset. Several well formated graphs have been generated (paper citation graph, co-authorship graph, etc.). To gain better understanding on the data we face, we performed an experimental data visualization on the paper citation graph and the results are satisfying. Base on the work we have done, we will try to perform the community cluster on both the paper citation and co-authorization graph for the next step in the project."
   ]
  },
  {
   "cell_type": "markdown",
   "metadata": {},
   "source": [
    "## Data Processing and Interpretation\n",
    "\n",
    "### Data screening\n",
    "Since DBLP includes too much data in fields outside of computer science, the data preprocessing task based on DBLP would be very expensive. To simplify the preprocessing task and pay more attention to the analysing work further, we select a refined subset of DBLP -- ArnetMiner[1] instead of raw DBLP. The ArnetMiner dataset includes 2,092,356 papers, 8,024,869 citations, 1,712,433 author and 4,258,615 collaboration relationships. It have also done some extend of name distinguishing work to merge the same authors with different names appeared together. \n",
    "The ArnetMiner dataset was processed based on an open-sourced academic data processing pipeline[2]. It provides useful APIs to convert the DBLP data into a structured graph format. \n",
    "\n",
    "### Filtering\n",
    "The dataset mentioned before includes millions of nodes and edges, so that we have to perform some extend of filtering on the graph for further problem solving. The filter task in the preprocessing stage includes the time filter and topic filter.\n",
    "#### Time filter\n",
    "We only select the papers published after 2010 to the graph. Although the filtered data is a relatively small portion of the original dataset, it should be enough for the data analysing problems we defined above. The academic community, trending topics and other problems we care most about are all time sensitive. In other words, the answers to the questions we raised might have massive difference though time. Therefore, we only pick the data of the recent decade to provide the most updated answers.\n",
    "#### Topic filter\n",
    "As mentioned before, we define the problem to be the analysing tasks on the machine learning related publications. So that we also need to implement another filter on the paper topics. \n",
    "For the midterm problem, we implemented a simple filter on the names of the papers to eliminate the unrelated data. We firstly collected a dataset of machine learning topics (e.g. data mining, computer vision) from the first tier machine learning conferences. Then for every paper’s name, we calculate the correlation between the name and the topic set. The papers with high correlation were picked as machine learning related publications.  "
   ]
  },
  {
   "cell_type": "markdown",
   "metadata": {},
   "source": [
    "## Citation Graph Visualization\n",
    "\t\n",
    "Visualization IS an easy way to understand underlying relationship of data. To further explore DBLP dataset, we start with visualizing author citation relationship graph, which provides us with important insights into relationship between different researchers.\n",
    "\n",
    "Gephi, an open-source free graph visualization software, is used for final analysis and visualization. To visualize citation graph, we firstly add name attribute to the citation-graph. Every node  refers to an author with his/her name attached as a built-in attribute. Each edge represents a citation action. We end up with 118043 nodes and 195008 edges. To make our graph clear and representative, we filter out author with less than 200 citations. This leaves only 51 nodes with 210 edges.\t\n",
    "\n",
    "Then, we use Gephi built-in functions to run modularity and betweenness centrality. Modularity measures the quality of a division of a network into communities, we set  modularity = 0.5. It allows us to partition graph into different groups. Betweenness centrality is an indicator of a node's centrality in a network. It is equal to the number of shortest paths from all vertices to all others that pass through that node.  Higher centrality indicates higher influence in the research community. We layout the whole graph using Force Altlas. Final graph is attached as below.\n",
    "\n",
    "\n",
    "\n",
    "\n",
    "\n",
    "![citation-graph](citation.png)\n",
    "\n",
    "\n",
    "Different colors represent different groups and the relative size of node represents the centrality.  By analyzing the graph we can have several important observation. L.Van.Gool is a center for both blue and pink group, which belong to computer vision research community. Jiawei Han is center for green group, which represents the data mining and knowledge discovery community. \n"
   ]
  },
  {
   "cell_type": "markdown",
   "metadata": {},
   "source": [
    "## Future Work\n",
    "\n",
    "We have some work to do in the future.\n",
    "\n",
    "First, we would like to implement some community detection algorithms based on citation graph, such as LPA, SLPA, HANP, Fast Unfolding, etc., to detect the relationship of the authors. Different algorithms result different community partitions, and we will use modularity to test the results.\n",
    "\n",
    "Second, we will try to revise and improve some of the community detection algorithms. After analyzing, we will try to apply those improved algorithms based on not only citation graph, but also coauthor graph to find more interesting results. \n",
    "\n",
    "Last, we would like to use GraphChi to speed up the community detection algorithm, and analyze all the statistic data in the final report."
   ]
  },
  {
   "cell_type": "markdown",
   "metadata": {},
   "source": [
    "### Reference\n",
    "\n",
    "[1] Jie Tang, Jing Zhang, Limin Yao, Juanzi Li, Li Zhang, and Zhong Su. ArnetMiner: Extraction and Mining of Academic Social Networks. In Proceedings of the Fourteenth ACM SIGKDD International Conference on Knowledge Discovery and Data Mining (SIGKDD'2008). pp.990-998. [PDF] [Slides] [System] [API]\n",
    "\n",
    "[2] Revelle, Matt, et al. \"Finding Community Topics and Membership in Graphs.\" Joint European Conference on Machine Learning and Knowledge Discovery in Databases. Springer International Publishing, 2015."
   ]
  }
 ],
 "metadata": {
  "kernelspec": {
   "display_name": "Python 2",
   "language": "python",
   "name": "python2"
  },
  "language_info": {
   "codemirror_mode": {
    "name": "ipython",
    "version": 2
   },
   "file_extension": ".py",
   "mimetype": "text/x-python",
   "name": "python",
   "nbconvert_exporter": "python",
   "pygments_lexer": "ipython2",
   "version": "2.7.12"
  }
 },
 "nbformat": 4,
 "nbformat_minor": 1
}
